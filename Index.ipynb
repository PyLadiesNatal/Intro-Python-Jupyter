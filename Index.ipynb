{
  "nbformat": 4,
  "nbformat_minor": 0,
  "metadata": {
    "colab": {
      "name": "Index.ipynb",
      "version": "0.3.2",
      "provenance": [],
      "include_colab_link": true
    },
    "kernelspec": {
      "display_name": "Python 3",
      "language": "python",
      "name": "python3"
    }
  },
  "cells": [
    {
      "cell_type": "markdown",
      "metadata": {
        "id": "view-in-github",
        "colab_type": "text"
      },
      "source": [
        "<a href=\"https://colab.research.google.com/github/PyLadiesNatal/Intro-Python-Jupyter/blob/master/Index.ipynb\" target=\"_parent\"><img src=\"https://colab.research.google.com/assets/colab-badge.svg\" alt=\"Open In Colab\"/></a>"
      ]
    },
    {
      "metadata": {
        "id": "4alSDqxh6fWI",
        "colab_type": "text"
      },
      "cell_type": "markdown",
      "source": [
        "# Guia para iniciantes com `Python`"
      ]
    },
    {
      "metadata": {
        "id": "FJ3kyckZ6fWJ",
        "colab_type": "text"
      },
      "cell_type": "markdown",
      "source": [
        "Hey, esse minicurso tem como objetivo ser um guia para sua introdução a programação usando `Python`.\n",
        "\n",
        "### Objetivo:\n",
        "    - if statements \n",
        "    - loops\n",
        "    - functions \n",
        "    - classes\n",
        "    - object oriented programming"
      ]
    },
    {
      "metadata": {
        "id": "fO5Ds7_o6fWK",
        "colab_type": "text"
      },
      "cell_type": "markdown",
      "source": [
        "Vamos fazer um primeiro exercício. Você está em casa e a lâmpada do seu quarto acabou de queimar. Você não pode ficar no escuro, então vai ter que trocar a lâmpada. Qual seu próximo passo?\n",
        "\n",
        "- [abstrair](01%20abstrair.ipynb)\n",
        "- [take a break](02%20take.ipynb)   "
      ]
    },
    {
      "metadata": {
        "id": "h9F43DCQ6fWL",
        "colab_type": "code",
        "colab": {}
      },
      "cell_type": "code",
      "source": [
        ""
      ],
      "execution_count": 0,
      "outputs": []
    }
  ]
}